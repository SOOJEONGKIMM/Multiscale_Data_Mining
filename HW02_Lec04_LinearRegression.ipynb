{
 "cells": [
  {
   "cell_type": "markdown",
   "id": "dfc0365f",
   "metadata": {},
   "source": [
    "# Multiscale_Data_Mining_HW02_Lec04_LinearRegression"
   ]
  },
  {
   "cell_type": "code",
   "execution_count": 1,
   "id": "3c295ebe",
   "metadata": {},
   "outputs": [],
   "source": [
    "from sklearn.linear_model import LinearRegression\n",
    "from sklearn.model_selection import train_test_split\n",
    "import pandas as pd\n",
    "from pandas import read_csv\n",
    "import numpy as np\n",
    "import matplotlib.pyplot as plt"
   ]
  },
  {
   "cell_type": "markdown",
   "id": "0a870f70",
   "metadata": {},
   "source": [
    "##\n",
    "<br/>\n",
    " 1. Build a linear regression model with all input variables and measure the training and test set performance. \n",
    " Build another linear regression model without \"Dummy\" variables, and also measure the training and test set performance. \n",
    " What you can observe? Explain. Also explain how you encode the categorial input variables.<br/>\n",
    "##"
   ]
  },
  {
   "cell_type": "code",
   "execution_count": 40,
   "id": "5ea8a52b",
   "metadata": {},
   "outputs": [],
   "source": [
    "df = pd.read_csv('carseat.csv')"
   ]
  },
  {
   "cell_type": "code",
   "execution_count": null,
   "id": "ab3841d2",
   "metadata": {},
   "outputs": [],
   "source": [
    "########################################################\n",
    "##  with dummies ##\n",
    "#######################################################"
   ]
  },
  {
   "cell_type": "code",
   "execution_count": 384,
   "id": "c2242a4d",
   "metadata": {},
   "outputs": [],
   "source": [
    "x = df[['CompPrice','Income','Advertising','Population','Price','ShelveLoc','Age','Education','Urban','US','Dummy01','Dummy02','Dummy03','Dummy04','Dummy05','Dummy06']]"
   ]
  },
  {
   "cell_type": "code",
   "execution_count": 165,
   "id": "2e1a4c1a",
   "metadata": {},
   "outputs": [],
   "source": [
    "y = df[[\"Sales\"]]"
   ]
  },
  {
   "cell_type": "code",
   "execution_count": 167,
   "id": "5a1187f3",
   "metadata": {},
   "outputs": [],
   "source": [
    "from sklearn.preprocessing import OrdinalEncoder\n",
    "from sklearn.preprocessing import LabelEncoder"
   ]
  },
  {
   "cell_type": "code",
   "execution_count": 168,
   "id": "64eeb463",
   "metadata": {},
   "outputs": [],
   "source": [
    "def prepare_inputs(x_train, x_test):\n",
    "    oe = OrdinalEncoder()\n",
    "    oe.fit(x_train)\n",
    "    x_train_enc = oe.fit_transform(x_train)\n",
    "    x_test_enc = oe.fit_transform(x_test)\n",
    "    return x_train_enc, x_test_enc"
   ]
  },
  {
   "cell_type": "code",
   "execution_count": 169,
   "id": "a00c9ebb",
   "metadata": {},
   "outputs": [],
   "source": [
    "def prepare_targets(y_train, y_test):\n",
    "    le = LabelEncoder()\n",
    "    le.fit(y_train)\n",
    "    y_train_enc = le.fit_transform(y_train)\n",
    "    y_test_enc = le.fit_transform(y_test)\n",
    "    return y_train_enc, y_test_enc"
   ]
  },
  {
   "cell_type": "code",
   "execution_count": 170,
   "id": "d6253fbe",
   "metadata": {},
   "outputs": [],
   "source": [
    "x = x.apply(pd.to_numeric, errors='coerce') #ShelveLoc column str->numeric"
   ]
  },
  {
   "cell_type": "code",
   "execution_count": 171,
   "id": "2853252c",
   "metadata": {},
   "outputs": [],
   "source": [
    "x.fillna(0, inplace=True)"
   ]
  },
  {
   "cell_type": "code",
   "execution_count": 172,
   "id": "5c0391ce",
   "metadata": {},
   "outputs": [],
   "source": [
    "x_train, x_test, y_train, y_test = train_test_split(x,y,train_size=0.7, test_size=0.3)"
   ]
  },
  {
   "cell_type": "code",
   "execution_count": 173,
   "id": "f767b5a8",
   "metadata": {},
   "outputs": [
    {
     "name": "stderr",
     "output_type": "stream",
     "text": [
      "C:\\Users\\poohl\\anaconda3\\lib\\site-packages\\sklearn\\utils\\validation.py:63: DataConversionWarning: A column-vector y was passed when a 1d array was expected. Please change the shape of y to (n_samples, ), for example using ravel().\n",
      "  return f(*args, **kwargs)\n"
     ]
    }
   ],
   "source": [
    "# prepare input data\n",
    "x_train_enc, x_test_enc = prepare_inputs(x_train, x_test)\n",
    "# prepare output data\n",
    "y_train_enc, y_test_enc = prepare_targets(y_train, y_test)"
   ]
  },
  {
   "cell_type": "code",
   "execution_count": 14,
   "id": "51d11255",
   "metadata": {},
   "outputs": [
    {
     "data": {
      "text/plain": [
       "LinearRegression()"
      ]
     },
     "execution_count": 14,
     "metadata": {},
     "output_type": "execute_result"
    }
   ],
   "source": [
    "mlr = LinearRegression()\n",
    "mlr.fit(x_train, y_train)"
   ]
  },
  {
   "cell_type": "code",
   "execution_count": 18,
   "id": "34d422c4",
   "metadata": {},
   "outputs": [],
   "source": [
    "y_predict = mlr.predict(x_test)"
   ]
  },
  {
   "cell_type": "code",
   "execution_count": 20,
   "id": "3efe307c",
   "metadata": {},
   "outputs": [
    {
     "data": {
      "image/png": "[encoded data removed]",
      "text/plain": [
       "<Figure size 432x288 with 1 Axes>"
      ]
     },
     "metadata": {
      "needs_background": "light"
     },
     "output_type": "display_data"
    }
   ],
   "source": [
    "import matplotlib.pyplot as plt\n",
    "plt.scatter(y_test, y_predict, alpha=0.4)\n",
    "plt.xlabel(\"Actual Sales\")\n",
    "plt.ylabel(\"Predicted Sales\")\n",
    "plt.title(\"MULTIPLE LINEAR REGRESSION_include dummies\")\n",
    "plt.show()"
   ]
  },
  {
   "cell_type": "code",
   "execution_count": null,
   "id": "ec3a60f4",
   "metadata": {},
   "outputs": [],
   "source": [
    "########################################################\n",
    "##  without dummies ##\n",
    "#######################################################"
   ]
  },
  {
   "cell_type": "code",
   "execution_count": 23,
   "id": "5d4d8565",
   "metadata": {},
   "outputs": [],
   "source": [
    "x2 = df[['CompPrice','Income','Advertising','Population','Price','ShelveLoc','Age','Education','Urban','US']]"
   ]
  },
  {
   "cell_type": "code",
   "execution_count": 24,
   "id": "2f11b489",
   "metadata": {},
   "outputs": [],
   "source": [
    "y2 = df[[\"Sales\"]]"
   ]
  },
  {
   "cell_type": "code",
   "execution_count": 25,
   "id": "bd72c08d",
   "metadata": {},
   "outputs": [],
   "source": [
    "x2 = x2.apply(pd.to_numeric, errors='coerce') #ShelveLoc column str->numeric"
   ]
  },
  {
   "cell_type": "code",
   "execution_count": 26,
   "id": "00bf2bd5",
   "metadata": {},
   "outputs": [],
   "source": [
    "x2.fillna(0, inplace=True)"
   ]
  },
  {
   "cell_type": "code",
   "execution_count": 27,
   "id": "6ca74c38",
   "metadata": {},
   "outputs": [],
   "source": [
    "x2_train, x2_test, y2_train, y2_test = train_test_split(x2,y2,train_size=0.7, test_size=0.3)"
   ]
  },
  {
   "cell_type": "code",
   "execution_count": 28,
   "id": "169597f0",
   "metadata": {},
   "outputs": [
    {
     "name": "stderr",
     "output_type": "stream",
     "text": [
      "C:\\Users\\poohl\\anaconda3\\lib\\site-packages\\sklearn\\utils\\validation.py:63: DataConversionWarning: A column-vector y was passed when a 1d array was expected. Please change the shape of y to (n_samples, ), for example using ravel().\n",
      "  return f(*args, **kwargs)\n"
     ]
    }
   ],
   "source": [
    "# prepare input data\n",
    "x2_train_enc, x2_test_enc = prepare_inputs(x2_train, x2_test)\n",
    "# prepare output data\n",
    "y2_train_enc, y2_test_enc = prepare_targets(y2_train, y2_test)"
   ]
  },
  {
   "cell_type": "code",
   "execution_count": 30,
   "id": "92377fc9",
   "metadata": {},
   "outputs": [
    {
     "data": {
      "text/plain": [
       "LinearRegression()"
      ]
     },
     "execution_count": 30,
     "metadata": {},
     "output_type": "execute_result"
    }
   ],
   "source": [
    "mlr = LinearRegression()\n",
    "mlr.fit(x2_train, y2_train)"
   ]
  },
  {
   "cell_type": "code",
   "execution_count": 31,
   "id": "99dc0f6d",
   "metadata": {},
   "outputs": [],
   "source": [
    "y2_predict = mlr.predict(x2_test)"
   ]
  },
  {
   "cell_type": "code",
   "execution_count": 244,
   "id": "4d7e025c",
   "metadata": {},
   "outputs": [
    {
     "data": {
      "image/png": "[encoded data removed]",
      "text/plain": [
       "<Figure size 432x288 with 1 Axes>"
      ]
     },
     "metadata": {
      "needs_background": "light"
     },
     "output_type": "display_data"
    }
   ],
   "source": [
    "plt.scatter(y2_test, y2_predict, alpha=0.4)\n",
    "plt.xlabel(\"Actual Sales\")\n",
    "plt.ylabel(\"Predicted Sales\")\n",
    "plt.title(\"MULTIPLE LINEAR REGRESSION_exclude dummies\")\n",
    "plt.show()"
   ]
  },
  {
   "cell_type": "markdown",
   "id": "e636c8ec",
   "metadata": {},
   "source": [
    "##<br/>\n",
    "2. Statsmodel\n",
    "Using StatsModels library (or other similar library), please obtain the statistic analysis table \n",
    "such as one on page 25 of Lecture Note 4. \n",
    "In this case, please use the linear regression model with all input variables. \n",
    "Please explain the result of p-values for input variables.<br/>\n",
    "##"
   ]
  },
  {
   "cell_type": "code",
   "execution_count": 42,
   "id": "18fa174d",
   "metadata": {},
   "outputs": [],
   "source": [
    "import statsmodels.api as sm\n",
    "from pandas import DataFrame"
   ]
  },
  {
   "cell_type": "code",
   "execution_count": 1,
   "id": "2a370a86",
   "metadata": {},
   "outputs": [
    {
     "ename": "NameError",
     "evalue": "name 'read_csv' is not defined",
     "output_type": "error",
     "traceback": [
      "\u001b[1;31m---------------------------------------------------------------------------\u001b[0m",
      "\u001b[1;31mNameError\u001b[0m                                 Traceback (most recent call last)",
      "\u001b[1;32m<ipython-input-1-725a1178fdbc>\u001b[0m in \u001b[0;36m<module>\u001b[1;34m\u001b[0m\n\u001b[1;32m----> 1\u001b[1;33m \u001b[0mdata\u001b[0m \u001b[1;33m=\u001b[0m \u001b[0mread_csv\u001b[0m\u001b[1;33m(\u001b[0m\u001b[1;34m'carseat.csv'\u001b[0m\u001b[1;33m)\u001b[0m\u001b[1;33m\u001b[0m\u001b[1;33m\u001b[0m\u001b[0m\n\u001b[0m",
      "\u001b[1;31mNameError\u001b[0m: name 'read_csv' is not defined"
     ]
    }
   ],
   "source": [
    "data = read_csv('carseat.csv')"
   ]
  },
  {
   "cell_type": "code",
   "execution_count": 68,
   "id": "1fa52eb2",
   "metadata": {},
   "outputs": [],
   "source": [
    "#df['ShelveLoc'] = pd.to_numeric(df['ShelveLoc'],errors='coerce')\n",
    "#df['Urban'] = pd.to_numeric(df['Urban'],errors='coerce')\n",
    "#df['US'] = pd.to_numeric(df['US'],errors='coerce')"
   ]
  },
  {
   "cell_type": "code",
   "execution_count": 71,
   "id": "843d1327",
   "metadata": {},
   "outputs": [],
   "source": [
    "df = DataFrame(data,columns=[\"Sales\",'CompPrice','Income','Advertising','Population','Price','ShelveLoc','Age','Education','Urban','US','Dummy01','Dummy02','Dummy03','Dummy04','Dummy05','Dummy06']) \n"
   ]
  },
  {
   "cell_type": "code",
   "execution_count": 242,
   "id": "922079e2",
   "metadata": {},
   "outputs": [],
   "source": [
    "x = df[['CompPrice','Income','Advertising','Population','Price','ShelveLoc','Age','Education','Urban','US','Dummy01','Dummy02','Dummy03','Dummy04','Dummy05','Dummy06']]\n",
    "y = df[[\"Sales\"]]"
   ]
  },
  {
   "cell_type": "code",
   "execution_count": 386,
   "id": "92c5c299",
   "metadata": {},
   "outputs": [],
   "source": [
    "x = x.apply(pd.to_numeric, errors='coerce') #ShelveLoc column str->numeric"
   ]
  },
  {
   "cell_type": "code",
   "execution_count": 387,
   "id": "89f834ad",
   "metadata": {},
   "outputs": [],
   "source": [
    "x.fillna(0, inplace=True)"
   ]
  },
  {
   "cell_type": "code",
   "execution_count": 75,
   "id": "7f0d7c8f",
   "metadata": {},
   "outputs": [
    {
     "data": {
      "text/plain": [
       "LinearRegression()"
      ]
     },
     "execution_count": 75,
     "metadata": {},
     "output_type": "execute_result"
    }
   ],
   "source": [
    "regr = LinearRegression()\n",
    "regr.fit(x, y)"
   ]
  },
  {
   "cell_type": "code",
   "execution_count": 76,
   "id": "d51cf664",
   "metadata": {},
   "outputs": [],
   "source": [
    "x = sm.add_constant(x) # adding a constant"
   ]
  },
  {
   "cell_type": "code",
   "execution_count": 77,
   "id": "6183fdd0",
   "metadata": {},
   "outputs": [],
   "source": [
    "model = sm.OLS(y, x).fit()\n",
    "predictions = model.predict(x) \n"
   ]
  },
  {
   "cell_type": "code",
   "execution_count": 78,
   "id": "8101bbe0",
   "metadata": {},
   "outputs": [
    {
     "name": "stdout",
     "output_type": "stream",
     "text": [
      "                            OLS Regression Results                            \n",
      "==============================================================================\n",
      "Dep. Variable:                  Sales   R-squared:                       0.614\n",
      "Model:                            OLS   Adj. R-squared:                  0.556\n",
      "Method:                 Least Squares   F-statistic:                     10.53\n",
      "Date:                Thu, 30 Sep 2021   Prob (F-statistic):           6.03e-13\n",
      "Time:                        22:34:01   Log-Likelihood:                -207.05\n",
      "No. Observations:                 100   AIC:                             442.1\n",
      "Df Residuals:                      86   BIC:                             478.6\n",
      "Df Model:                          13                                         \n",
      "Covariance Type:            nonrobust                                         \n",
      "===============================================================================\n",
      "                  coef    std err          t      P>|t|      [0.025      0.975]\n",
      "-------------------------------------------------------------------------------\n",
      "const           3.8476      2.936      1.311      0.194      -1.989       9.684\n",
      "CompPrice       0.1112      0.016      7.010      0.000       0.080       0.143\n",
      "Income          0.0161      0.008      1.973      0.052      -0.000       0.032\n",
      "Advertising     0.1912      0.033      5.789      0.000       0.126       0.257\n",
      "Population      0.0013      0.001      0.884      0.379      -0.002       0.004\n",
      "Price          -0.0869      0.012     -7.032      0.000      -0.111      -0.062\n",
      "ShelveLoc   -2.978e-15   2.27e-15     -1.312      0.193   -7.49e-15    1.53e-15\n",
      "Age            -0.0470      0.015     -3.184      0.002      -0.076      -0.018\n",
      "Education      -0.0178      0.079     -0.224      0.823      -0.176       0.140\n",
      "Urban       -1.666e-14   1.27e-14     -1.310      0.194    -4.2e-14    8.63e-15\n",
      "US           3.822e-14   2.91e-14      1.312      0.193   -1.97e-14    9.61e-14\n",
      "Dummy01        -0.0098      0.008     -1.236      0.220      -0.026       0.006\n",
      "Dummy02        -0.1325      0.076     -1.741      0.085      -0.284       0.019\n",
      "Dummy03         0.0125      0.015      0.848      0.399      -0.017       0.042\n",
      "Dummy04         0.0562      0.036      1.544      0.126      -0.016       0.129\n",
      "Dummy05        -0.0053      0.007     -0.733      0.465      -0.020       0.009\n",
      "Dummy06         0.0180      0.014      1.240      0.218      -0.011       0.047\n",
      "==============================================================================\n",
      "Omnibus:                        3.521   Durbin-Watson:                   2.050\n",
      "Prob(Omnibus):                  0.172   Jarque-Bera (JB):                2.038\n",
      "Skew:                           0.058   Prob(JB):                        0.361\n",
      "Kurtosis:                       2.310   Cond. No.                     9.62e+17\n",
      "==============================================================================\n",
      "\n",
      "Notes:\n",
      "[1] Standard Errors assume that the covariance matrix of the errors is correctly specified.\n",
      "[2] The smallest eigenvalue is 1.48e-29. This might indicate that there are\n",
      "strong multicollinearity problems or that the design matrix is singular.\n"
     ]
    }
   ],
   "source": [
    "#P >|t| is your p-value. A p-value of less than 0.05 is considered to be statistically significant\n",
    "print_model = model.summary()\n",
    "print(print_model)"
   ]
  },
  {
   "cell_type": "markdown",
   "id": "f2a6fcb0",
   "metadata": {},
   "source": [
    "##<br/>\n",
    " 3. Can you improve the test performance by including non-linear high-order or interaction terms? \n",
    " You don't have to use all input variables in this case.<br/>\n",
    "##"
   ]
  },
  {
   "cell_type": "code",
   "execution_count": 274,
   "id": "90c1c8ff",
   "metadata": {},
   "outputs": [
    {
     "data": {
      "image/png": "[encoded data removed]",
      "text/plain": [
       "<Figure size 432x288 with 1 Axes>"
      ]
     },
     "metadata": {
      "needs_background": "light"
     },
     "output_type": "display_data"
    }
   ],
   "source": [
    "## original _ linear regression\n",
    "df = pd.read_csv('carseat.csv')\n",
    "x = df[['CompPrice']]\n",
    "y = df[[\"Sales\"]]\n",
    "mlr = LinearRegression()\n",
    "mlr.fit(x,y)\n",
    "\n",
    "y_predict = mlr.predict(x)\n",
    "\n",
    "plt.scatter(x,y, s=10)\n",
    "plt.plot(x,y_predict,color='r')\n",
    "plt.xlabel(\"Actual Sales\")\n",
    "plt.ylabel(\"Predicted Sales\")\n",
    "plt.title(\"MULTIPLE LINEAR REGRESSION_exclude dummies\")\n",
    "plt.show()"
   ]
  },
  {
   "cell_type": "code",
   "execution_count": 627,
   "id": "522f566c",
   "metadata": {},
   "outputs": [
    {
     "name": "stdout",
     "output_type": "stream",
     "text": [
      "3.236338067091592\n",
      "-0.09774236560194471\n"
     ]
    }
   ],
   "source": [
    "rmse = np.sqrt(mean_squared_error(y,y_predict))\n",
    "r2 = r2_score(y,y_predict)\n",
    "print(rmse)\n",
    "print(r2)"
   ]
  },
  {
   "cell_type": "code",
   "execution_count": 137,
   "id": "f92cec4b",
   "metadata": {},
   "outputs": [],
   "source": [
    "## improve model __ polynomial features\n",
    "from sklearn.metrics import mean_squared_error, r2_score\n",
    "from sklearn.preprocessing import PolynomialFeatures\n",
    "import operator"
   ]
  },
  {
   "cell_type": "code",
   "execution_count": 617,
   "id": "f19ab86b",
   "metadata": {},
   "outputs": [],
   "source": [
    "#x = df[['CompPrice','Income','Advertising','Population','Price','Age','Education']]\n",
    "x = df[['Price']]#,'Income','Advertising','Population','Price','Age','Education']]\n",
    "y = df[[\"Sales\"]]"
   ]
  },
  {
   "cell_type": "code",
   "execution_count": 618,
   "id": "519144bd",
   "metadata": {},
   "outputs": [],
   "source": [
    "polynomial_features= PolynomialFeatures(degree=2)\n",
    "x_poly = polynomial_features.fit_transform(x)"
   ]
  },
  {
   "cell_type": "code",
   "execution_count": 619,
   "id": "7d3a118c",
   "metadata": {},
   "outputs": [],
   "source": [
    "model = LinearRegression()\n",
    "model.fit(x_poly, y)\n",
    "y_poly_pred = model.predict(x_poly)"
   ]
  },
  {
   "cell_type": "code",
   "execution_count": 620,
   "id": "82b95b3f",
   "metadata": {},
   "outputs": [
    {
     "name": "stdout",
     "output_type": "stream",
     "text": [
      "2.8821653134962553\n",
      "0.12937639760350683\n"
     ]
    }
   ],
   "source": [
    "rmse = np.sqrt(mean_squared_error(y,y_poly_pred))\n",
    "r2 = r2_score(y,y_poly_pred)\n",
    "print(rmse)\n",
    "print(r2)"
   ]
  },
  {
   "cell_type": "code",
   "execution_count": 626,
   "id": "9c7595ff",
   "metadata": {},
   "outputs": [
    {
     "data": {
      "image/png": "[encoded data removed]",
      "text/plain": [
       "<Figure size 432x288 with 1 Axes>"
      ]
     },
     "metadata": {
      "needs_background": "light"
     },
     "output_type": "display_data"
    }
   ],
   "source": [
    "\n",
    "plt.scatter(x, y, s=10)\n",
    "# sort the values of x before line plot\n",
    "sort_axis = operator.itemgetter(0)\n",
    "plt.plot(x, y_poly_pred, color='m')\n",
    "plt.show()"
   ]
  },
  {
   "cell_type": "code",
   "execution_count": 484,
   "id": "68421143",
   "metadata": {},
   "outputs": [],
   "source": []
  }
 ],
 "metadata": {
  "kernelspec": {
   "display_name": "Python 3",
   "language": "python",
   "name": "python3"
  },
  "language_info": {
   "codemirror_mode": {
    "name": "ipython",
    "version": 3
   },
   "file_extension": ".py",
   "mimetype": "text/x-python",
   "name": "python",
   "nbconvert_exporter": "python",
   "pygments_lexer": "ipython3",
   "version": "3.8.8"
  }
 },
 "nbformat": 4,
 "nbformat_minor": 5
}
